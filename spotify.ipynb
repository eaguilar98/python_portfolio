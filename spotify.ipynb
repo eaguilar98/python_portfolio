{
  "nbformat": 4,
  "nbformat_minor": 0,
  "metadata": {
    "colab": {
      "name": "EAY_Spotify.ipynb",
      "private_outputs": true,
      "provenance": [],
      "collapsed_sections": [],
      "mount_file_id": "1COtI_q8dhOlDokB7udCpiBdKdvTiZSZ8",
      "authorship_tag": "ABX9TyP23jMY7QaA8V8bY1YJzDip",
      "include_colab_link": true
    },
    "kernelspec": {
      "name": "python3",
      "display_name": "Python 3"
    },
    "language_info": {
      "name": "python"
    }
  },
  "cells": [
    {
      "cell_type": "markdown",
      "metadata": {
        "id": "view-in-github",
        "colab_type": "text"
      },
      "source": [
        "<a href=\"https://colab.research.google.com/github/eaguilar98/python_portfolio/blob/main/spotify.ipynb\" target=\"_parent\"><img src=\"https://colab.research.google.com/assets/colab-badge.svg\" alt=\"Open In Colab\"/></a>"
      ]
    },
    {
      "cell_type": "markdown",
      "source": [
        "# **Spotify**"
      ],
      "metadata": {
        "id": "6dpgAhZjQdRQ"
      }
    },
    {
      "cell_type": "markdown",
      "source": [
        "![spotify.jpg](data:image/jpeg;base64,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)"
      ],
      "metadata": {
        "id": "yOEW67cIUYL9"
      }
    },
    {
      "cell_type": "markdown",
      "source": [
        "**About Dataset**\n",
        "\n",
        "**Context**\n",
        "\n",
        "This dataset contains audio statistics of the top 2000 tracks on Spotify. The data contains about 15 columns each describing the track and it's qualities. Songs released from 1956 to 2019 are included from some notable and famous artists like Queen, The Beatles, Guns N' Roses, etc.\n",
        "\n",
        "http://sortyourmusic.playlistmachinery.com/ by @plamere uses Spotify API to extract the audio features from the tracks given the Spotify Playlist URI. This data contains audio features like Danceability, BPM, Liveness, Valence(Positivity) and many more.\n",
        "\n",
        "Each feature's description has been given in detail below."
      ],
      "metadata": {
        "id": "s49iYhAqSpW4"
      }
    },
    {
      "cell_type": "markdown",
      "source": [
        "**Acknowledgements**\n",
        "\n",
        "This data is extracted from the Spotify playlist - Top 2000s on PlaylistMachinery(@plamere) using Selenium with Python. \n",
        "\n",
        "More specifically, it was scraped from http://sortyourmusic.playlistmachinery.com/. \n",
        "\n",
        "**Thanks to Paul for providing a free and open source to extract features and do cool stuff with your Spotify playlists!**"
      ],
      "metadata": {
        "id": "45M9oy5xSpOn"
      }
    },
    {
      "cell_type": "markdown",
      "source": [
        "###Content\n",
        "\n",
        "**Index:** ID\n",
        "\n",
        "**Title:** Name of the Track\n",
        "\n",
        "**Artist**: Name of the Artist\n",
        "\n",
        "**Top Genre:** Genre of the track\n",
        "\n",
        "**Year:** Release Year of the track\n",
        "\n",
        "**Beats per Minute(BPM):** The tempo of the song\n",
        "\n",
        "**Energy:** The energy of a song - the higher the value, the more energtic. song\n",
        "\n",
        "**Danceability:** The higher the value, the easier it is to dance to this song.\n",
        "\n",
        "**Loudness:** The higher the value, the louder the song.\n",
        "\n",
        "**Valence:** The higher the value, the more positive mood for the song.\n",
        "\n",
        "**Length:** The duration of the song.\n",
        "\n",
        "**Acoustic:** The higher the value the more acoustic the song is.\n",
        "\n",
        "**Speechiness:** The higher the value the more spoken words the song contains\n",
        "\n",
        "**Popularity:** The higher the value the more popular the song is."
      ],
      "metadata": {
        "id": "3tTSLpBdUF_0"
      }
    },
    {
      "cell_type": "markdown",
      "source": [
        "**Inspiration**\n",
        "\n",
        "**This is a very fun dataset to explore and find out unique links which land \n",
        "songs in the Top 2000s.**\n",
        "\n",
        "*With this dataset, I wanted to be able to answer some questions like:*\n",
        "\n",
        "\n",
        "\n",
        "Which genres were more popular coming through 1950s to 2000s?\n",
        "\n",
        "Songs of which genre mostly saw themselves landing in the Top 2000s?\n",
        "\n",
        "Which artists were more likely to make a top song?\n",
        "\n",
        "Songs containing which words are more popular?\n",
        "\n",
        "What is the average tempo of songs compared over the years?\n",
        "\n",
        "Is there a trend of acoustic songs being popular back in 1960s than they are now?\n",
        "\n",
        "Is there a trend in genres preferred back in the day vs now?"
      ],
      "metadata": {
        "id": "M6l4_nv4D3PO"
      }
    },
    {
      "cell_type": "markdown",
      "source": [
        "### Import libraries"
      ],
      "metadata": {
        "id": "3eWl-VTPQiUB"
      }
    },
    {
      "cell_type": "code",
      "source": [
        "import  pandas              as pd\n",
        "import  numpy               as np\n",
        "import  matplotlib.pyplot   as plt\n",
        "import  seaborn             as sns"
      ],
      "metadata": {
        "id": "BbnyyGcqQoRG"
      },
      "execution_count": null,
      "outputs": []
    },
    {
      "cell_type": "markdown",
      "source": [
        "### Load information"
      ],
      "metadata": {
        "id": "9w64ofs7QiO5"
      }
    },
    {
      "cell_type": "code",
      "source": [
        "file='/content/drive/MyDrive/data set/Spotify-2000.csv'\n",
        "spotify_df=pd.read_csv(file, index_col=\"Index\")"
      ],
      "metadata": {
        "id": "F0qVEvIERSlD"
      },
      "execution_count": null,
      "outputs": []
    },
    {
      "cell_type": "code",
      "source": [
        "spotify_df.head()"
      ],
      "metadata": {
        "id": "EFDJsTYuRnbX"
      },
      "execution_count": null,
      "outputs": []
    },
    {
      "cell_type": "markdown",
      "source": [
        "### EDA - Basic structure"
      ],
      "metadata": {
        "id": "vHNtbSDrQiK3"
      }
    },
    {
      "cell_type": "code",
      "source": [
        "spotify_df.info()"
      ],
      "metadata": {
        "id": "bpiF8I9lWOfY"
      },
      "execution_count": null,
      "outputs": []
    },
    {
      "cell_type": "code",
      "source": [
        "my_columns ={\n",
        "    'Beats Per Minute (BPM)':'BPM',\n",
        "    'Loudness (dB)': 'db',\n",
        "    'Length (Duration)':'Duration'\n",
        "}\n",
        "spotify_df.rename(columns=my_columns, inplace=True)"
      ],
      "metadata": {
        "id": "4vulHUchV7VK"
      },
      "execution_count": null,
      "outputs": []
    },
    {
      "cell_type": "code",
      "source": [
        "spotify_df.columns"
      ],
      "metadata": {
        "id": "I1W3wghSW7Yz"
      },
      "execution_count": null,
      "outputs": []
    },
    {
      "cell_type": "code",
      "source": [
        "spotify_df[[\n",
        "             'BPM',\n",
        "             'Energy',\n",
        "             'Danceability',\n",
        "             'db',\n",
        "             'Liveness',\n",
        "             'Valence',\n",
        "             'Acousticness',\n",
        "             'Speechiness',\n",
        "             'Popularity'\n",
        "            ]].describe()"
      ],
      "metadata": {
        "id": "YPwTANu2WuIQ"
      },
      "execution_count": null,
      "outputs": []
    },
    {
      "cell_type": "markdown",
      "source": [
        ""
      ],
      "metadata": {
        "id": "Q5Vh9JenQiH7"
      }
    },
    {
      "cell_type": "code",
      "source": [
        "spotify_df[spotify_df['Top Genre'].str.contains('metal')]['Artist'].unique()"
      ],
      "metadata": {
        "id": "39C1Bl7B_eE7"
      },
      "execution_count": null,
      "outputs": []
    },
    {
      "cell_type": "code",
      "source": [
        ""
      ],
      "metadata": {
        "id": "mtUaEqyT60VX"
      },
      "execution_count": null,
      "outputs": []
    }
  ]
}