{
  "nbformat": 4,
  "nbformat_minor": 0,
  "metadata": {
    "colab": {
      "name": "LINEAR_REGRESSION_AND_REGRESSION_METRICS.ipynb",
      "private_outputs": true,
      "provenance": [],
      "collapsed_sections": [],
      "authorship_tag": "ABX9TyPp7PmdScqp1O/ukcRq+BZE",
      "include_colab_link": true
    },
    "kernelspec": {
      "name": "python3",
      "display_name": "Python 3"
    },
    "language_info": {
      "name": "python"
    }
  },
  "cells": [
    {
      "cell_type": "markdown",
      "metadata": {
        "id": "view-in-github",
        "colab_type": "text"
      },
      "source": [
        "<a href=\"https://colab.research.google.com/github/eaguilar98/python_portfolio/blob/main/LINEAR_REGRESSION_AND_REGRESSION_METRICS.ipynb\" target=\"_parent\"><img src=\"https://colab.research.google.com/assets/colab-badge.svg\" alt=\"Open In Colab\"/></a>"
      ]
    },
    {
      "cell_type": "markdown",
      "source": [
        "![imaswges.jpg](data:image/jpeg;base64,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)"
      ],
      "metadata": {
        "id": "Uri3i0QqcA2L"
      }
    },
    {
      "cell_type": "code",
      "execution_count": null,
      "metadata": {
        "id": "reI61emOZPRY"
      },
      "outputs": [],
      "source": [
        "import pandas               as pd\n",
        "import numpy                as np\n",
        "import matplotlib.pyplot    as plt\n",
        "import seaborn              as sns"
      ]
    },
    {
      "cell_type": "code",
      "source": [
        "from sklearn.model_selection    import train_test_split\n",
        "from sklearn.linear_model       import LinearRegression\n",
        "from sklearn                    import metrics\n",
        "from sklearn.linear_model       import Ridge\n",
        "from sklearn.linear_model       import Lasso\n",
        "from sklearn.linear_model       import ElasticNet"
      ],
      "metadata": {
        "id": "IkdavzBobfHx"
      },
      "execution_count": null,
      "outputs": []
    },
    {
      "cell_type": "code",
      "source": [
        "# Respuesta \n",
        "auto = (pd.read_csv('https://raw.githubusercontent.com/edroga/Datasets_for_projects/main/Auto.csv')\n",
        "          .drop(columns = ['origin', 'name'])\n",
        "          .loc[lambda row: row['horsepower'].str.isnumeric()]\n",
        "          .assign(horsepower = lambda x: pd.to_numeric(x['horsepower']))\n",
        "        )"
      ],
      "metadata": {
        "id": "LMVns_xgZiya"
      },
      "execution_count": null,
      "outputs": []
    },
    {
      "cell_type": "code",
      "source": [
        "auto.sample(5)"
      ],
      "metadata": {
        "id": "oOvUkYjQaJGB"
      },
      "execution_count": null,
      "outputs": []
    },
    {
      "cell_type": "code",
      "source": [
        "auto.info()"
      ],
      "metadata": {
        "id": "Rr7TFIZWc2PY"
      },
      "execution_count": null,
      "outputs": []
    },
    {
      "cell_type": "code",
      "source": [
        "#sacamos todas las columnas menos la mpg\n",
        "X=auto.drop(columns=['mpg'])\n",
        "\n",
        "#tomamos solo la mpg\n",
        "y=auto['mpg']"
      ],
      "metadata": {
        "id": "fhJxkcUqaM1k"
      },
      "execution_count": null,
      "outputs": []
    },
    {
      "cell_type": "code",
      "source": [
        "#la instancia\n",
        "reg_all = LinearRegression()"
      ],
      "metadata": {
        "id": "gDaKfXpYcgfy"
      },
      "execution_count": null,
      "outputs": []
    },
    {
      "cell_type": "code",
      "source": [
        "# ajustamos los datos al modelo\n",
        "reg_all.fit(X, y)"
      ],
      "metadata": {
        "id": "sXFUEMnMdsF2"
      },
      "execution_count": null,
      "outputs": []
    },
    {
      "cell_type": "code",
      "source": [
        "y_pronostico = reg_all.predict(X)"
      ],
      "metadata": {
        "id": "cxHdcfsfdud_"
      },
      "execution_count": null,
      "outputs": []
    },
    {
      "cell_type": "code",
      "source": [
        "metrics.r2_score(y, y_pronostico)"
      ],
      "metadata": {
        "id": "WfHJRd9-d4A4"
      },
      "execution_count": null,
      "outputs": []
    },
    {
      "cell_type": "code",
      "source": [
        "metrics.mean_absolute_error(y, y_pronostico)"
      ],
      "metadata": {
        "id": "vazcdWKpd-CK"
      },
      "execution_count": null,
      "outputs": []
    },
    {
      "cell_type": "code",
      "source": [
        "metrics.mean_squared_error(y, y_pronostico)"
      ],
      "metadata": {
        "id": "46fsRuGMeA1b"
      },
      "execution_count": null,
      "outputs": []
    }
  ]
}